{
    "cells": [
        {
            "cell_type": "markdown",
            "id": "ac622319",
            "metadata": {},
            "source": [
                "# Descriptive Statistics Problems"
            ]
        },
        {
            "cell_type": "markdown",
            "id": "aa8993e4",
            "metadata": {},
            "source": [
                "### Exercise 1"
            ]
        },
        {
            "cell_type": "markdown",
            "id": "5e0ab0d5",
            "metadata": {},
            "source": [
                "As right now, you are familliar with numpy, we are going to use numpy to get some data statistics.\n",
                "\n",
                "First, lets create an array of 20 elements distributed normally (Gaussian):\n",
                "\n",
                "Use the np.random.normal function to create some data, using 0,1,20 as parameters because we want a one dimentional array of 20 numbers distributed normally (Gaussian)"
            ]
        },
        {
            "cell_type": "code",
            "execution_count": 122,
            "id": "34720ab6",
            "metadata": {},
            "outputs": [
                {
                    "name": "stdout",
                    "output_type": "stream",
                    "text": [
                        "[-1.42055744 -0.958369   -0.38367319  0.83952129 -0.61624352 -0.61160386\n",
                        "  1.2044401  -0.2579788  -1.37120654  0.74569499  0.21261858 -0.01108421\n",
                        "  0.1701615   1.17937473 -0.81731251 -0.63833172 -0.82572017  0.39408203\n",
                        " -0.43331287  0.10575616]\n"
                    ]
                }
            ],
            "source": [
                "#import libraries\n",
                "import pandas as pd\n",
                "import numpy as np\n",
                "\n",
                "# Set seed in order to get similar results\n",
                "np.random.seed(370) #This method is called when RandomState is initialized.\n",
                "\n",
                "# create the data\n",
                "arr=np.random.normal(0,1,20)\n",
                "\n",
                "#print results\n",
                "print(arr)"
            ]
        },
        {
            "cell_type": "code",
            "execution_count": 123,
            "id": "49c55822",
            "metadata": {},
            "outputs": [
                {
                    "data": {
                        "text/plain": [
                            "-0.17468722195386427"
                        ]
                    },
                    "execution_count": 123,
                    "metadata": {},
                    "output_type": "execute_result"
                }
            ],
            "source": [
                "#Use numpy to get the mean of your data\n",
                "mean1= arr.mean()\n",
                "mean1"
            ]
        },
        {
            "cell_type": "code",
            "execution_count": 124,
            "id": "03529459",
            "metadata": {},
            "outputs": [
                {
                    "data": {
                        "text/plain": [
                            "0.5731095567830629"
                        ]
                    },
                    "execution_count": 124,
                    "metadata": {},
                    "output_type": "execute_result"
                }
            ],
            "source": [
                "#get the variance of your data\n",
                "vza= arr.var()\n",
                "vza"
            ]
        },
        {
            "cell_type": "code",
            "execution_count": 125,
            "id": "e53f30c5",
            "metadata": {},
            "outputs": [
                {
                    "data": {
                        "text/plain": [
                            "0.7570399968185716"
                        ]
                    },
                    "execution_count": 125,
                    "metadata": {},
                    "output_type": "execute_result"
                }
            ],
            "source": [
                "# Standard deviation\n",
                "sd= arr.std()\n",
                "sd\n"
            ]
        },
        {
            "cell_type": "code",
            "execution_count": 126,
            "id": "9bce852f",
            "metadata": {},
            "outputs": [
                {
                    "name": "stdout",
                    "output_type": "stream",
                    "text": [
                        "ModeResult(mode=array([-1.42055744]), count=array([1]))\n"
                    ]
                }
            ],
            "source": [
                "#import libraries and print the mode\n",
                "from scipy import stats\n",
                "\n",
                "# Mode for continuous array\n",
                "\n",
                "print (stats.mode(arr))\n"
            ]
        },
        {
            "cell_type": "code",
            "execution_count": 127,
            "id": "c682cb6e",
            "metadata": {},
            "outputs": [
                {
                    "data": {
                        "text/plain": [
                            "-0.32082599297388037"
                        ]
                    },
                    "execution_count": 127,
                    "metadata": {},
                    "output_type": "execute_result"
                }
            ],
            "source": [
                "# Median\n",
                "mediana1= np.median(arr)\n",
                "mediana1\n"
            ]
        },
        {
            "cell_type": "code",
            "execution_count": 128,
            "id": "39c3fabd",
            "metadata": {},
            "outputs": [
                {
                    "name": "stdout",
                    "output_type": "stream",
                    "text": [
                        "primer quartile 25%: -0.683076914708716\n",
                        "segundo quartile 50%: -0.32082599297388037\n",
                        "tercero quartile 75%: 0.25798443965041584\n",
                        "cuarto quartile 100%: 1.2044401009484202\n",
                        "mediana: -0.32082599297388037\n",
                        "coincide con el valor de la mediana con el segundo quartile de 50%\n"
                    ]
                }
            ],
            "source": [
                "# Print the Quantiles\n",
                "print ('primer quartile 25%:', np.quantile (arr,.25) )\n",
                "print ('segundo quartile 50%:', np.quantile (arr,.5) )\n",
                "print ('tercero quartile 75%:', np.quantile (arr,.75) )\n",
                "print ('cuarto quartile 100%:', np.quantile (arr,1) )\n",
                "\n",
                "# This match with np.median, why?\n",
                "print ('mediana:',mediana1)\n",
                "\n",
                "print('coincide con el valor de la mediana con el segundo quartile de 50%')\n"
            ]
        },
        {
            "cell_type": "markdown",
            "id": "46c70c3d",
            "metadata": {},
            "source": [
                "### Exercise 2\n",
                "\n",
                "Write a Python program to calculate the standard deviation of the following data:\n",
                "```py\n",
                "data = [4, 2, 5, 8, 6]\n",
                "```"
            ]
        },
        {
            "cell_type": "code",
            "execution_count": null,
            "id": "611786d1",
            "metadata": {},
            "outputs": [
                {
                    "name": "stdout",
                    "output_type": "stream",
                    "text": [
                        "Sample Data:  [4, 2, 5, 8, 6]\n",
                        "Standard Deviation :  2.23606797749979\n"
                    ]
                }
            ],
            "source": [
                "import math\n",
                "import sys\n",
                "\n",
                "# Define the standard deviation function\n",
                "def sd_calc(data):\n",
                "    #code here\n",
                "    n = len(data)\n",
                "\n",
                "    if n <= 1:\n",
                "        return 0.0\n",
                "\n",
                "    mean, sd = avg_calc(data), 0.0\n",
                "\n",
                "    # calculate stan. dev.\n",
                "    for el in data:\n",
                "        sd += (float(el) - mean)**2\n",
                "    sd = math.sqrt(sd / float(n-1))\n",
                "\n",
                "    return sd\n",
                "\n",
                "\n",
                "\n",
                "# Define the average function\n",
                "def avg_calc(ls):\n",
                "    #code here\n",
                "    n, mean = len(ls), 0.0\n",
                "\n",
                "    if n <= 1:\n",
                "        return ls[0]\n",
                "\n",
                "    # calculate average\n",
                "    for el in ls:\n",
                "        mean = mean + float(el)\n",
                "    mean = mean / float(n)\n",
                "\n",
                "    return mean\n",
                "\n",
                "\n",
                "data = [4, 2, 5, 8, 6]\n",
                "print(\"Sample Data: \", data)\n",
                "print(\"Standard Deviation : \",sd_calc(data))"
            ]
        },
        {
            "cell_type": "markdown",
            "id": "04b71791",
            "metadata": {},
            "source": [
                "Source:\n",
                "\n",
                "https://www.w3resource.com/"
            ]
        }
    ],
    "metadata": {
        "kernelspec": {
            "display_name": "Python 3.8.13 64-bit ('3.8.13')",
            "language": "python",
            "name": "python3"
        },
        "language_info": {
            "codemirror_mode": {
                "name": "ipython",
                "version": 3
            },
            "file_extension": ".py",
            "mimetype": "text/x-python",
            "name": "python",
            "nbconvert_exporter": "python",
            "pygments_lexer": "ipython3",
            "version": "3.8.13"
        },
        "vscode": {
            "interpreter": {
                "hash": "110cc1dee26208153f2972f08a2ad52b6a56238dc66d48e87fb757ef2996db56"
            }
        }
    },
    "nbformat": 4,
    "nbformat_minor": 5
}
